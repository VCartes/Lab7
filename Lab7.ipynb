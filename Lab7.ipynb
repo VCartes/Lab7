{
 "cells": [
  {
   "cell_type": "code",
   "execution_count": 36,
   "id": "2cf97425",
   "metadata": {},
   "outputs": [
    {
     "name": "stdout",
     "output_type": "stream",
     "text": [
      "N: 6\n",
      "Integrante 1: 2\n",
      "Integrante 2: 10\n",
      "Integrante 3: 18\n",
      "Integrante 4: 33\n",
      "Integrante 5: 45\n",
      "Integrante 6: 76\n",
      "33000\n"
     ]
    }
   ],
   "source": [
    "def valorEdad(edad: int) -> int:\n",
    "    if edad < 4:\n",
    "        return 0\n",
    "    \n",
    "    if edad <= 18:\n",
    "        return 5000\n",
    "    \n",
    "    if edad < 65:\n",
    "        return 10000\n",
    "    \n",
    "    return 3000\n",
    "\n",
    "\n",
    "N = int(input(\"N: \"))\n",
    "while N <= 0:\n",
    "    N = int(input(\"N: \"))\n",
    "\n",
    "total = 0\n",
    "for i in range(N):\n",
    "    edad = int(input(f\"Integrante {i + 1}: \"))\n",
    "    \n",
    "    while edad <= 0 or edad > 90:\n",
    "        edad = int(input(f\"Integrante {i + 1}: \"))\n",
    "    \n",
    "    total += valorEdad(edad)\n",
    "\n",
    "print(total)"
   ]
  },
  {
   "cell_type": "code",
   "execution_count": 8,
   "id": "57d24390",
   "metadata": {},
   "outputs": [
    {
     "name": "stdout",
     "output_type": "stream",
     "text": [
      "Peso: 30\n",
      "Peso producto: 10\n",
      "Peso producto: 5\n",
      "Peso producto: 6\n",
      "Peso producto: 7\n",
      "Peso producto: 7\n",
      "28\n"
     ]
    }
   ],
   "source": [
    "p = int(input(\"Peso: \"))\n",
    "while p <= 0:\n",
    "    p = int(input(\"Peso: \"))\n",
    "\n",
    "carga = 0\n",
    "while True:\n",
    "    m = int(input(\"Peso producto: \"))\n",
    "    while m <= 0:\n",
    "        m = int(input(\"Peso producto: \"))\n",
    "    \n",
    "    temp = carga + m\n",
    "    \n",
    "    if temp > p:\n",
    "        print(carga)\n",
    "        break\n",
    "    \n",
    "    carga = temp"
   ]
  },
  {
   "cell_type": "code",
   "execution_count": 15,
   "id": "861de2af",
   "metadata": {},
   "outputs": [
    {
     "name": "stdout",
     "output_type": "stream",
     "text": [
      "Lados: 0\n",
      "Lados: 3\n",
      "x: 0\n",
      "y: 0\n",
      "x: 4\n",
      "y: 0\n",
      "x: 0\n",
      "y: 3\n",
      "12.0\n"
     ]
    }
   ],
   "source": [
    "import math\n",
    "\n",
    "def calcularPerimetro(lados: int) -> float:\n",
    "    perimetro = 0\n",
    "    \n",
    "    x1 = float(input(\"x: \"))\n",
    "    y1 = float(input(\"y: \"))\n",
    "    primerPunto = Punto(x1, y1)\n",
    "    puntoActual = primerPunto\n",
    "    \n",
    "    for i in range(lados - 1):\n",
    "        x = float(input(\"x: \"))\n",
    "        y = float(input(\"y: \"))\n",
    "        \n",
    "        nuevoPunto = Punto(x, y)\n",
    "        perimetro += nuevoPunto.dist(puntoActual)\n",
    "        puntoActual = nuevoPunto\n",
    "    \n",
    "    perimetro += puntoActual.dist(primerPunto)\n",
    "    return perimetro\n",
    "\n",
    "class Punto:\n",
    "    def __init__(self, x: float, y:float):\n",
    "        self.x = x\n",
    "        self.y = y\n",
    "    \n",
    "    def dist(self, other):\n",
    "        deltaX = self.x - other.x\n",
    "        deltaY = self.y - other.y\n",
    "        \n",
    "        return math.sqrt(deltaX ** 2 + deltaY ** 2)\n",
    "\n",
    "nLados = int(input(\"Lados: \"))\n",
    "while nLados <= 0:\n",
    "    nLados = int(input(\"Lados: \"))\n",
    "\n",
    "perimetro = calcularPerimetro(nLados)\n",
    "print(perimetro)"
   ]
  },
  {
   "cell_type": "code",
   "execution_count": 19,
   "id": "5b57be2b",
   "metadata": {},
   "outputs": [
    {
     "name": "stdout",
     "output_type": "stream",
     "text": [
      "Instrucción: ENTRADA\n",
      "Turistas: 5\n",
      "Instrucción: ENTRADA\n",
      "Turistas: 3\n",
      "Instrucción: SALIDA\n",
      "Turistas: 4\n",
      "Instrucción: FIN\n",
      "Turistas: 4\n",
      "Jeeps: 1\n"
     ]
    }
   ],
   "source": [
    "turistasDentro = 0\n",
    "jeepsDentro = 0\n",
    "\n",
    "while True:\n",
    "    ins = input(\"Instrucción: \")\n",
    "    \n",
    "    while ins != \"ENTRADA\" and ins != \"SALIDA\" and ins != \"FIN\":\n",
    "        ins = input(\"Error: \")\n",
    "    \n",
    "    if ins == \"FIN\":\n",
    "        break    \n",
    "    \n",
    "    T = int(input(\"Turistas: \"))\n",
    "    while T < 0 or T > 20:\n",
    "         T = int(input(\"Turistas: \"))\n",
    "        \n",
    "    if ins == \"ENTRADA\":\n",
    "        turistasDentro += T\n",
    "        jeepsDentro += 1\n",
    "    \n",
    "    if ins == \"SALIDA\":\n",
    "        turistasDentro -= T\n",
    "        jeepsDentro -= 1\n",
    "\n",
    "print(f\"Turistas: {turistasDentro}\")\n",
    "print(f\"Jeeps: {jeepsDentro}\")"
   ]
  },
  {
   "cell_type": "code",
   "execution_count": 35,
   "id": "c62c051a",
   "metadata": {},
   "outputs": [
    {
     "name": "stdout",
     "output_type": "stream",
     "text": [
      "n: 7\n",
      "v: 5\n",
      "5\n",
      "15\n",
      "1115\n",
      "3115\n",
      "132115\n",
      "1113122115\n",
      "311311222115\n"
     ]
    }
   ],
   "source": [
    "def digitosNumero(n: int) -> list:\n",
    "    ret = []\n",
    "    while n != 0:\n",
    "        ret.append(n % 10)\n",
    "        n = n // 10\n",
    "    ret.reverse()\n",
    "    return ret\n",
    "\n",
    "def newNum(v: int) -> int:\n",
    "    ret = 0\n",
    "    \n",
    "    digitos = digitosNumero(v)\n",
    "    ultimoDigito = digitos[0]\n",
    "    count = 0\n",
    "    \n",
    "    for d in digitos:\n",
    "        if d == ultimoDigito:\n",
    "            count += 1\n",
    "            continue\n",
    "        \n",
    "        ret *= 10\n",
    "        ret += count\n",
    "        ret *= 10\n",
    "        ret += ultimoDigito\n",
    "        \n",
    "        count = 1\n",
    "        ultimoDigito = d\n",
    "    \n",
    "    ret *= 10\n",
    "    ret += count\n",
    "    ret *= 10\n",
    "    ret += ultimoDigito\n",
    "    return ret\n",
    "\n",
    "n = int(input(\"n: \"))\n",
    "while n <= 0 or n > 20:\n",
    "    n = int(input(\"n: \"))\n",
    "\n",
    "v = int(input(\"v: \"))\n",
    "while v < 0 or v >= 10:\n",
    "    v = int(input(\"v: \"))\n",
    "\n",
    "for i in range(n):\n",
    "    print(v)\n",
    "    v = newNum(v)"
   ]
  },
  {
   "cell_type": "code",
   "execution_count": null,
   "id": "f70a3d64",
   "metadata": {},
   "outputs": [],
   "source": []
  }
 ],
 "metadata": {
  "kernelspec": {
   "display_name": "Python 3 (ipykernel)",
   "language": "python",
   "name": "python3"
  },
  "language_info": {
   "codemirror_mode": {
    "name": "ipython",
    "version": 3
   },
   "file_extension": ".py",
   "mimetype": "text/x-python",
   "name": "python",
   "nbconvert_exporter": "python",
   "pygments_lexer": "ipython3",
   "version": "3.9.12"
  }
 },
 "nbformat": 4,
 "nbformat_minor": 5
}
